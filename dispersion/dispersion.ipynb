{
 "cells": [
  {
   "cell_type": "code",
   "execution_count": 1,
   "metadata": {},
   "outputs": [],
   "source": [
    "import numpy as np\n",
    "import matplotlib.pyplot as plt\n",
    "import scipy.fftpack as sc\n",
    "from scipy.signal import butter, lfilter, filtfilt\n",
    "from scipy.signal import freqs\n",
    "from scipy import signal\n",
    "import copy\n",
    "from scipy.interpolate import interp1d\n",
    "from scipy.optimize import curve_fit"
   ]
  },
  {
   "cell_type": "code",
   "execution_count": 414,
   "metadata": {},
   "outputs": [],
   "source": [
    "\n",
    "'''_____Standard imports_____'''\n",
    "import numpy as np\n",
    "import matplotlib.pyplot as plt\n",
    "from scipy.signal import butter, lfilter\n",
    "from scipy import signal\n",
    "import copy\n",
    "from scipy.interpolate import interp1d\n",
    "from scipy.optimize import curve_fit\n",
    "\n",
    "def load_data(dir):\n",
    "\n",
    "    data = []\n",
    "    file = open(dir,'r')\n",
    "    for line in file:\n",
    "        data.append(float(line))\n",
    "    return data\n",
    "\n",
    "\n",
    "def butter_highpass(cutoff, fs, order=5):\n",
    "\n",
    "    nyq = 0.5 * fs\n",
    "    normal_cutoff = cutoff / nyq\n",
    "    b, a = signal.butter(order,\n",
    "                         normal_cutoff,\n",
    "                         btype='high',\n",
    "                         analog=False)\n",
    "    return b, a\n",
    "\n",
    "\n",
    "def butter_highpass_filter(data, cutoff, fs, order=5):\n",
    "\n",
    "    b, a = butter_highpass(cutoff, fs, order=order)\n",
    "    y = signal.filtfilt(b, a, data)\n",
    "    return y\n",
    "\n",
    "\n",
    "def make_poly_fit(x=[],y=[], order = 5):\n",
    "\n",
    "    coefs = np.polynomial.polynomial.polyfit(x, y, order)\n",
    "    ffit = np.poly1d(coefs[::-1])\n",
    "    return ffit\n",
    "\n",
    "\n",
    "def gauss(x, *p):\n",
    "    A, mu, sigma = p\n",
    "    return A*np.exp(-(x-mu)**2/(2.*sigma**2))\n",
    "\n",
    "\n",
    "def hilbert(data):\n",
    "    tmp = np.fft.fft(data)\n",
    "    tmp[0: len(tmp)//2] = 0\n",
    "    return np.fft.fft(tmp)\n",
    "\n",
    "def unwrap_phase(spectra):\n",
    "\n",
    "    spectra = np.array(spectra)\n",
    "    fft_spectra = hilbert(spectra)\n",
    "    phase = np.angle( fft_spectra )\n",
    "    unwrapped_phase = np.unwrap( phase )\n",
    "    phase[0] = 0\n",
    "    return unwrapped_phase\n",
    "\n",
    "\n",
    "def get_phase(spectra):\n",
    "\n",
    "    Phase = unwrap_phase(spectra)\n",
    "    return Phase\n",
    "\n",
    "def apodization(spectra):\n",
    "\n",
    "    hanning = np.hanning( len(spectra) )\n",
    "    spectra = hanning*  spectra\n",
    "\n",
    "    return spectra\n",
    "\n",
    "\n",
    "def spectra2aline(spectra):\n",
    "\n",
    "    tmp0 = np.fft.fft(spectra)\n",
    "    tmp1 = np.fft.fftshift( tmp0 )\n",
    "\n",
    "    return np.abs( tmp1 )\n",
    "\n",
    "\n",
    "def linearize_spectra(spectra, x_klinear):\n",
    "\n",
    "    x = np.arange( len(spectra) )\n",
    "    phase = get_phase(spectra)\n",
    "\n",
    "    interpolation = interp1d(x, spectra)\n",
    "    klinear_spectra = interpolation(x_klinear)\n",
    "\n",
    "\n",
    "    return klinear_spectra\n",
    "\n",
    "\n",
    "def compensate_dispersion(spectra, Pdispersion):\n",
    "\n",
    "    j = complex(0,1)\n",
    "\n",
    "    tmp = np.real( hilbert(spectra) * np.exp( j * np.array(Pdispersion)  ) )\n",
    "\n",
    "    return tmp\n",
    "\n",
    "\n",
    "def k_linearization(spectra1, spectra2):\n",
    "\n",
    "    phase1 = get_phase(spectra1)\n",
    "    phase2 = get_phase(spectra2)\n",
    "\n",
    "    x = np.arange( len(phase1) )\n",
    "    Plin = (phase1 + phase2) / 2\n",
    "\n",
    "    fit_x = make_poly_fit( x=Plin, y = x, order = 6 )\n",
    "    x_klinear = fit_x( np.linspace( Plin[0], Plin[-1], len(Plin) ) )\n",
    "\n",
    "    interpolated_spectra1 = linearize_spectra(spectra1, x_klinear)\n",
    "    interpolated_spectra2 = linearize_spectra(spectra2, x_klinear)\n",
    "\n",
    "\n",
    "    return x_klinear, interpolated_spectra1, interpolated_spectra2\n",
    "\n",
    "\n",
    "def shift_spectra(spectra1, spectra2, N_pad, plot=True):\n",
    "\n",
    "\n",
    "    L = len(spectra1)\n",
    "    x = np.arange( L )\n",
    "    j = complex(0,1)\n",
    "\n",
    "    z_space = np.linspace(-np.pi, np.pi, L * N_pad)\n",
    "    z_space = z_space[len(z_space)//2:-1]\n",
    "\n",
    "    ff1 = np.abs( np.fft.fftshift( np.fft.fft(spectra1, L * N_pad ) ) )\n",
    "    ff2 = np.abs( np.fft.fftshift( np.fft.fft(spectra2, L * N_pad ) ) )\n",
    "\n",
    "    ff1 = ff1[len(ff1)//2:-1]\n",
    "    ff2 = ff2[len(ff2)//2:-1]\n",
    "\n",
    "    p0 = [1., 0., 1.]\n",
    "\n",
    "    coeff1, var_matrix1 = curve_fit(gauss, z_space, ff1, p0=p0)\n",
    "    coeff2, var_matrix2 = curve_fit(gauss, z_space, ff2, p0=p0)\n",
    "\n",
    "    if plot:\n",
    "\n",
    "        fig = plt.figure(figsize=(15, 6))\n",
    "        ax0 = fig.add_subplot(141)\n",
    "        ax1 = fig.add_subplot(142)\n",
    "        ax2 = fig.add_subplot(143)\n",
    "        ax3 = fig.add_subplot(144)\n",
    "\n",
    "        ax0.plot(ff1)\n",
    "        ax1.plot( gauss(z_space, *coeff1) )\n",
    "        ax2.plot(ff2)\n",
    "        ax3.plot( gauss(z_space, *coeff2) )\n",
    "\n",
    "        print(\"click the image to exit\")\n",
    "        plt.waitforbuttonpress()\n",
    "        plt.close()\n",
    "\n",
    "\n",
    "    x_shift = ( coeff1[1] + coeff2[1])/2\n",
    "\n",
    "    c1 = ( -coeff1[1] + x_shift )\n",
    "    c2 = ( -coeff2[1] + x_shift )\n",
    "\n",
    "    shifted_spectra1 = np.real( hilbert(spectra1) * np.exp(j * x * c1 ) )\n",
    "    shifted_spectra2 = np.real( hilbert(spectra2) * np.exp(j * x * c2 ) )\n",
    "\n",
    "\n",
    "    return z_space, shifted_spectra1, shifted_spectra2, c1, c2\n",
    "\n",
    "\n",
    "\n",
    "def compute_dispersion(spectra1, spectra2, c1, c2, plot=True):\n",
    "\n",
    "    j = complex(0,1)\n",
    "    x = np.arange( len(spectra1) )\n",
    "\n",
    "    p1 = unwrap_phase(spectra1) + np.arange(len(spectra2))*c1\n",
    "    p2 = unwrap_phase(spectra2) + np.arange(len(spectra2))*c2\n",
    "\n",
    "    Pdisp = (p1-p2)/2\n",
    "    fit_disp = make_poly_fit( x = x, y = Pdisp, order = 7 )\n",
    "\n",
    "    Pdispersion = fit_disp(x)\n",
    "    Pdispersion = Pdispersion - Pdispersion[0]\n",
    "\n",
    "    compensated_spectra1 = compensate_dispersion(spectra1, -Pdispersion)\n",
    "    compensated_spectra2 = compensate_dispersion(spectra2, Pdispersion)\n",
    "\n",
    "\n",
    "    if plot:\n",
    "        fig = plt.figure(figsize=(15, 6))\n",
    "        ax0 = fig.add_subplot(111)\n",
    "\n",
    "\n",
    "        ax0.plot(Pdispersion)\n",
    "        ax0.set_ylabel('Unwrapped phase [U.A]')\n",
    "        ax0.set_title('System phase dispersion')\n",
    "        plt.grid()\n",
    "        plt.waitforbuttonpress()\n",
    "        plt.close()\n",
    "\n",
    "    return compensated_spectra1, compensated_spectra2, Pdispersion\n",
    "\n",
    "\n",
    "def dB_plot(data1, data2=None):\n",
    "\n",
    "    fig = plt.figure(figsize=(15, 6))\n",
    "\n",
    "    if data2 is None:\n",
    "        ax = fig.add_subplot(111)\n",
    "        ref1 = np.min(data1)\n",
    "        dB1 = 10 * np.log(data1/ref1)\n",
    "        ax.plot(dB1)\n",
    "        ax.grid()\n",
    "        ax.set_ylabel('Magnitude [dB]')\n",
    "        ax.set_xlabel('Wavenumber k [U.A]')\n",
    "\n",
    "    else:\n",
    "        ax0 = fig.add_subplot(121)\n",
    "        ax1 = fig.add_subplot(122)\n",
    "\n",
    "        ref1 = np.min(data1)\n",
    "        ref2 = np.min(data1)\n",
    "\n",
    "        dB1 = 10 * np.log(data1/ref1)\n",
    "        dB2 = 10 * np.log(data2/ref2)\n",
    "\n",
    "        ax0.plot(dB1)\n",
    "        ax0.grid()\n",
    "        ax0.set_ylabel('Magnitude [dB]')\n",
    "        ax0.set_xlabel('Wavenumber k [U.A]')\n",
    "\n",
    "        ax1.plot(dB2)\n",
    "        ax1.grid()\n",
    "        ax1.set_ylabel('Magnitude [dB]')\n",
    "        ax1.set_xlabel('Wavenumber k [U.A]')\n",
    "\n",
    "    plt.waitforbuttonpress()\n",
    "    plt.close()\n"
   ]
  },
  {
   "cell_type": "code",
   "execution_count": 3,
   "metadata": {},
   "outputs": [],
   "source": [
    "\n",
    "'''_____Standard imports_____'''\n",
    "import numpy as np\n",
    "import matplotlib.pyplot as plt\n",
    "import scipy.fftpack as sc\n",
    "from scipy.signal import butter, lfilter, filtfilt\n",
    "from scipy.signal import freqs\n",
    "from scipy import signal\n",
    "import copy\n",
    "from scipy.interpolate import interp1d\n",
    "from scipy.optimize import curve_fit\n",
    "\n",
    "'''_____Project imports_____'''\n",
    "from tools import *\n",
    "\n",
    "\n",
    "class Spectra(object):\n",
    "\n",
    "\n",
    "    def __init__(self, data_dir, background_dir = None, ref_dir = None, sample_dir = None):\n",
    "\n",
    "        self.data_dir = data_dir\n",
    "        self.background_dir = background_dir\n",
    "        self.ref_dir = ref_dir\n",
    "        self.sample_dir = sample_dir\n",
    "\n",
    "\n",
    "    def load_data(self):\n",
    "\n",
    "        self.raw = []\n",
    "        file = open(self.data_dir,'r')\n",
    "        for line in file:\n",
    "            self.raw.append(float(line))\n",
    "\n",
    "        self.raw = np.array(self.raw)\n",
    "\n",
    "\n",
    "    def get_phase(self):\n",
    "\n",
    "        self.phase = unwrap_phase(self.raw)\n",
    "        self.phase[0] = 0\n",
    "\n",
    "\n",
    "    def plot_phase(self):\n",
    "\n",
    "        fig = plt.figure()\n",
    "        ax = fig.add_subplot(111)\n",
    "        ax.plot(self.phase)\n",
    "        ax.set_ylabel('Phase [rad]')\n",
    "        ax.set_xlabel('Points space [U.A]')\n",
    "        plt.grid()\n",
    "        plt.waitforbuttonpress()\n",
    "        plt.close()\n",
    "\n",
    "\n",
    "    def process_data(self):\n",
    "\n",
    "        self.sub_background()\n",
    "        self.sub_sample()\n",
    "        self.sub_ref()\n",
    "        self.raw = butter_highpass_filter(self.raw,\n",
    "                                          cutoff=0.8,\n",
    "                                          fs=30,\n",
    "                                          order=4)\n",
    "\n",
    "        self.raw = apodization(self.raw)\n",
    "        self.get_phase()\n",
    "\n",
    "\n",
    "    def sub_background(self):\n",
    "\n",
    "        background = load_data(self.background_dir)\n",
    "\n",
    "        self.raw = self.raw + background\n",
    "\n",
    "\n",
    "    def sub_sample(self):\n",
    "\n",
    "        sample = load_data(self.sample_dir)\n",
    "\n",
    "        self.raw = self.raw - sample\n",
    "\n",
    "\n",
    "    def sub_ref(self):\n",
    "\n",
    "        ref = load_data(self.ref_dir)\n",
    "\n",
    "        self.raw = self.raw - ref\n"
   ]
  },
  {
   "cell_type": "code",
   "execution_count": 4,
   "metadata": {},
   "outputs": [
    {
     "name": "stdout",
     "output_type": "stream",
     "text": [
      "test\n",
      "test\n"
     ]
    },
    {
     "name": "stderr",
     "output_type": "stream",
     "text": [
      "/usr/local/lib/python3.6/site-packages/scipy/signal/_arraytools.py:45: FutureWarning: Using a non-tuple sequence for multidimensional indexing is deprecated; use `arr[tuple(seq)]` instead of `arr[seq]`. In the future this will be interpreted as an array index, `arr[np.array(seq)]`, which will result either in an error or a different result.\n",
      "  b = a[a_slice]\n"
     ]
    },
    {
     "name": "stdout",
     "output_type": "stream",
     "text": [
      "1024\n",
      "982.4725827822305\n"
     ]
    }
   ],
   "source": [
    "\n",
    "'''_____Standard imports_____'''\n",
    "import numpy as np\n",
    "import matplotlib.pyplot as plt\n",
    "from scipy.signal import butter\n",
    "from scipy import signal\n",
    "import copy\n",
    "import json\n",
    "from scipy.interpolate import interp1d\n",
    "\n",
    "\n",
    "'''_____Project imports_____'''\n",
    "from tools import *\n",
    "from PySpectra import Spectra\n",
    "\n",
    "\n",
    "print('test')\n",
    "Mirror1 = Spectra(data_dir=\"data/mirror-.txt\",\n",
    "                  background_dir=\"data/dark_not.txt\",\n",
    "                  sample_dir = \"data/dark_sample.txt\",\n",
    "                  ref_dir = 'data/dark_ref.txt')\n",
    "\n",
    "Mirror1.load_data()\n",
    "Mirror1.process_data()\n",
    "Mirror1.get_phase()\n",
    "#Mirror1.plot_phase()\n",
    "print('test')\n",
    "\n",
    "Mirror2 = Spectra(data_dir=\"data/mirror+.txt\",\n",
    "                  background_dir=\"data/dark_not.txt\",\n",
    "                  sample_dir = \"data/dark_sample.txt\",\n",
    "                  ref_dir = 'data/dark_ref.txt')\n",
    "\n",
    "Mirror2.load_data()\n",
    "Mirror2.process_data()\n",
    "Mirror2.get_phase()\n",
    "#Mirror2.plot_phase()\n",
    "\n",
    "x_new, interpolated_spectra1, interpolated_spectra2 = k_linearization(Mirror1.raw,\n",
    "                                                                      Mirror2.raw)\n",
    "\n",
    "\n",
    "z_space, shifted_spectra1, shifted_spectra2, c1, c2 = shift_spectra(interpolated_spectra1,\n",
    "                                                                    interpolated_spectra2,\n",
    "                                                                    N_pad=10,\n",
    "                                                                    plot=False)\n",
    "\n",
    "spectra1, spectra2, Pdispersion = compute_dispersion(shifted_spectra1,\n",
    "                                                     shifted_spectra2,\n",
    "                                                     c1,\n",
    "                                                     c2,\n",
    "                                                     plot=False)\n",
    "\n",
    "#dB_plot(spectra2aline(spectra1), spectra2aline(Mirror1.raw))\n",
    "#dB_plot(spectra2aline(spectra2), spectra2aline(Mirror2.raw))\n",
    "\n",
    "print(len(Mirror1.raw))\n",
    "print(np.max(x_new))\n",
    "calib_dict = {\"klinear\":     list(x_new),\n",
    "              \"dispersion\":  list(Pdispersion),\n",
    "              \"dark_not\":    load_data(\"data/dark_not.txt\"),\n",
    "              \"dark_ref\":    load_data(\"data/dark_ref.txt\"),\n",
    "              \"dark_sample\": load_data(\"data/dark_sample.txt\")\n",
    "              }\n",
    "\n",
    "with open('calibration_parameters.json', 'w') as outfile:\n",
    "    json.dump(calib_dict, outfile)\n",
    "\n",
    "\n"
   ]
  },
  {
   "cell_type": "code",
   "execution_count": null,
   "metadata": {},
   "outputs": [],
   "source": []
  },
  {
   "cell_type": "code",
   "execution_count": null,
   "metadata": {},
   "outputs": [],
   "source": [
    "Mirror1"
   ]
  },
  {
   "cell_type": "code",
   "execution_count": 5,
   "metadata": {},
   "outputs": [],
   "source": [
    "x_new, interpolated_spectra1, interpolated_spectra2 = k_linearization(Mirror1.raw, \n",
    "                                                                      Mirror2.raw)\n",
    "\n"
   ]
  },
  {
   "cell_type": "code",
   "execution_count": 6,
   "metadata": {},
   "outputs": [],
   "source": [
    "z_space, shifted_spectra1, shifted_spectra2, c1, c2 = shift_spectra(interpolated_spectra1, \n",
    "                                                                    interpolated_spectra2, \n",
    "                                                                    N_pad=10,\n",
    "                                                                    plot=False)"
   ]
  },
  {
   "cell_type": "code",
   "execution_count": 7,
   "metadata": {},
   "outputs": [],
   "source": [
    "spectra1, spectra2, Pdispersion = compute_dispersion(shifted_spectra1, \n",
    "                                                     shifted_spectra2, \n",
    "                                                     c1, \n",
    "                                                     c2,\n",
    "                                                     plot=False)\n"
   ]
  },
  {
   "cell_type": "code",
   "execution_count": null,
   "metadata": {},
   "outputs": [
    {
     "name": "stderr",
     "output_type": "stream",
     "text": [
      "/usr/local/lib/python3.6/site-packages/matplotlib/figure.py:457: UserWarning: matplotlib is currently using a non-GUI backend, so cannot show the figure\n",
      "  \"matplotlib is currently using a non-GUI backend, \"\n"
     ]
    }
   ],
   "source": [
    "dB_plot(spectra2aline(spectra1), spectra2aline(Mirror1.raw))"
   ]
  },
  {
   "cell_type": "code",
   "execution_count": 189,
   "metadata": {},
   "outputs": [
    {
     "data": {
      "image/png": "[encoded data removed]",
      "text/plain": [
       "<Figure size 1080x432 with 2 Axes>"
      ]
     },
     "metadata": {},
     "output_type": "display_data"
    }
   ],
   "source": [
    "dB_plot(spectra2aline(spectra2), spectra2aline(Mirror2.raw))"
   ]
  },
  {
   "cell_type": "code",
   "execution_count": 190,
   "metadata": {},
   "outputs": [],
   "source": [
    "import lzma\n",
    "import numpy as np\n",
    "import binascii\n",
    "import struct\n",
    "import matplotlib.pyplot as plt\n",
    "filename = '/Users/macbooklodi/Desktop/Biophotonic/Biophotonic/Doc_project/dispersion/data/Bscan/orange_1.txt'\n",
    "\n",
    "file = open(filename, 'r')\n",
    "data = []\n",
    "\n",
    "for line in file:\n",
    "    data.append( line  )\n",
    "\n",
    "\n"
   ]
  },
  {
   "cell_type": "code",
   "execution_count": 479,
   "metadata": {},
   "outputs": [
    {
     "ename": "AttributeError",
     "evalue": "'int' object has no attribute 'split'",
     "output_type": "error",
     "traceback": [
      "\u001b[0;31m---------------------------------------------------------------------------\u001b[0m",
      "\u001b[0;31mAttributeError\u001b[0m                            Traceback (most recent call last)",
      "\u001b[0;32m<ipython-input-479-2529e3814aa8>\u001b[0m in \u001b[0;36m<module>\u001b[0;34m()\u001b[0m\n\u001b[1;32m      5\u001b[0m \u001b[0;32mfor\u001b[0m \u001b[0mi\u001b[0m \u001b[0;32min\u001b[0m \u001b[0mrange\u001b[0m\u001b[0;34m(\u001b[0m\u001b[0;36m0\u001b[0m\u001b[0;34m,\u001b[0m\u001b[0mN\u001b[0m\u001b[0;34m)\u001b[0m\u001b[0;34m:\u001b[0m\u001b[0;34m\u001b[0m\u001b[0m\n\u001b[1;32m      6\u001b[0m \u001b[0;34m\u001b[0m\u001b[0m\n\u001b[0;32m----> 7\u001b[0;31m     \u001b[0mspectra\u001b[0m \u001b[0;34m=\u001b[0m \u001b[0mdata\u001b[0m\u001b[0;34m[\u001b[0m\u001b[0mi\u001b[0m\u001b[0;34m]\u001b[0m\u001b[0;34m.\u001b[0m\u001b[0msplit\u001b[0m\u001b[0;34m(\u001b[0m\u001b[0;34m'\\t'\u001b[0m\u001b[0;34m)\u001b[0m\u001b[0;34m\u001b[0m\u001b[0m\n\u001b[0m\u001b[1;32m      8\u001b[0m     \u001b[0mspectra\u001b[0m \u001b[0;34m=\u001b[0m \u001b[0mlist\u001b[0m\u001b[0;34m(\u001b[0m \u001b[0mmap\u001b[0m\u001b[0;34m(\u001b[0m\u001b[0mfloat\u001b[0m\u001b[0;34m,\u001b[0m \u001b[0mspectra\u001b[0m\u001b[0;34m)\u001b[0m \u001b[0;34m)\u001b[0m\u001b[0;34m\u001b[0m\u001b[0m\n\u001b[1;32m      9\u001b[0m     \u001b[0mraw_aline\u001b[0m\u001b[0;34m.\u001b[0m\u001b[0mappend\u001b[0m\u001b[0;34m(\u001b[0m\u001b[0mspectra2aline\u001b[0m\u001b[0;34m(\u001b[0m\u001b[0mspectra\u001b[0m\u001b[0;34m)\u001b[0m\u001b[0;34m)\u001b[0m\u001b[0;34m\u001b[0m\u001b[0m\n",
      "\u001b[0;31mAttributeError\u001b[0m: 'int' object has no attribute 'split'"
     ]
    }
   ],
   "source": [
    "N = len(data)\n",
    "aline = []\n",
    "raw_aline = []\n",
    "\n",
    "for i in range(0,N):\n",
    "    \n",
    "    spectra = data[i].split('\\t')\n",
    "    spectra = list( map(float, spectra) )\n",
    "    raw_aline.append(spectra2aline(spectra))\n",
    "    \n",
    "    tmp = apodization(spectra)\n",
    "    tmp = linearize_spectra(tmp, x_new)\n",
    "    tmp = compensate_dispersion(tmp, -Pdispersion)\n",
    "    tmp = spectra2aline(tmp)\n",
    "    \n",
    "    aline.append(tmp)\n",
    "    \n",
    "    \n",
    "NN = 400\n",
    "dB_plot(aline[NN], raw_aline[NN])"
   ]
  },
  {
   "cell_type": "code",
   "execution_count": null,
   "metadata": {},
   "outputs": [],
   "source": []
  },
  {
   "cell_type": "code",
   "execution_count": null,
   "metadata": {},
   "outputs": [],
   "source": []
  },
  {
   "cell_type": "code",
   "execution_count": null,
   "metadata": {},
   "outputs": [],
   "source": []
  },
  {
   "cell_type": "code",
   "execution_count": null,
   "metadata": {},
   "outputs": [],
   "source": []
  },
  {
   "cell_type": "code",
   "execution_count": null,
   "metadata": {},
   "outputs": [],
   "source": []
  },
  {
   "cell_type": "code",
   "execution_count": null,
   "metadata": {},
   "outputs": [],
   "source": []
  },
  {
   "cell_type": "code",
   "execution_count": null,
   "metadata": {},
   "outputs": [],
   "source": []
  },
  {
   "cell_type": "code",
   "execution_count": null,
   "metadata": {},
   "outputs": [],
   "source": []
  },
  {
   "cell_type": "code",
   "execution_count": null,
   "metadata": {},
   "outputs": [],
   "source": []
  },
  {
   "cell_type": "code",
   "execution_count": null,
   "metadata": {},
   "outputs": [],
   "source": []
  },
  {
   "cell_type": "code",
   "execution_count": null,
   "metadata": {},
   "outputs": [],
   "source": []
  },
  {
   "cell_type": "code",
   "execution_count": null,
   "metadata": {},
   "outputs": [],
   "source": []
  },
  {
   "cell_type": "code",
   "execution_count": null,
   "metadata": {},
   "outputs": [],
   "source": []
  },
  {
   "cell_type": "code",
   "execution_count": null,
   "metadata": {},
   "outputs": [],
   "source": []
  },
  {
   "cell_type": "code",
   "execution_count": null,
   "metadata": {},
   "outputs": [],
   "source": []
  },
  {
   "cell_type": "code",
   "execution_count": null,
   "metadata": {},
   "outputs": [],
   "source": []
  },
  {
   "cell_type": "code",
   "execution_count": null,
   "metadata": {},
   "outputs": [],
   "source": []
  },
  {
   "cell_type": "code",
   "execution_count": null,
   "metadata": {},
   "outputs": [],
   "source": []
  },
  {
   "cell_type": "code",
   "execution_count": null,
   "metadata": {},
   "outputs": [],
   "source": []
  },
  {
   "cell_type": "code",
   "execution_count": null,
   "metadata": {},
   "outputs": [],
   "source": []
  },
  {
   "cell_type": "code",
   "execution_count": null,
   "metadata": {},
   "outputs": [],
   "source": []
  },
  {
   "cell_type": "code",
   "execution_count": null,
   "metadata": {},
   "outputs": [],
   "source": []
  },
  {
   "cell_type": "code",
   "execution_count": null,
   "metadata": {},
   "outputs": [],
   "source": []
  },
  {
   "cell_type": "code",
   "execution_count": 493,
   "metadata": {},
   "outputs": [
    {
     "name": "stderr",
     "output_type": "stream",
     "text": [
      "/usr/local/lib/python3.6/site-packages/scipy/signal/_arraytools.py:45: FutureWarning: Using a non-tuple sequence for multidimensional indexing is deprecated; use `arr[tuple(seq)]` instead of `arr[seq]`. In the future this will be interpreted as an array index, `arr[np.array(seq)]`, which will result either in an error or a different result.\n",
      "  b = a[a_slice]\n"
     ]
    }
   ],
   "source": [
    "\n",
    "def load_Bscan_spectra(file_dir, block_start=276, block_end = 632084, shape1=617, shape2=1024):\n",
    "    \n",
    "    data = np.fromfile(file_dir, dtype = np.uint16)\n",
    "    block_data = data[block_start: block_end]\n",
    "    Bscan_spectra = block_data.reshape([617,1024])\n",
    "    return Bscan_spectra\n",
    "\n",
    "\n",
    "def process_Bscan(Bscan_spectra):\n",
    "    \n",
    "    Bscan = []\n",
    "    for i, spectra in enumerate(Bscan_spectra):\n",
    "\n",
    "        spectra = np.array(spectra)  - np.array(calibration['dark_not']) - np.array(calibration['dark_ref']) + np.array(calibration['dark_sample'])\n",
    "        spectra = apodization(spectra)\n",
    "        spectra = butter_highpass_filter(spectra,\n",
    "                                          cutoff=0.001,\n",
    "                                          fs=30,\n",
    "                                          order=4)\n",
    "        spectra = linearize_spectra(spectra, calibration['klinear'])\n",
    "        spectra = compensate_dispersion(np.array(spectra), np.array(calibration['dispersion']) )\n",
    "        Aline = spectra2aline(spectra)\n",
    "        Aline = Aline[0:len(Aline)//2]\n",
    "        Bscan.append(Aline)\n",
    "    \n",
    "\n",
    "    return Bscan\n",
    "    \n",
    "  \n",
    "file = '/Users/macbooklodi/Desktop/Biophotonic/Biophotonic/Doc_project/dispersion/data/Bscan/orange_1.raw'\n",
    "\n",
    "Bscan_spectra = load_Bscan_spectra(file)\n",
    "\n",
    "Bscan = process_Bscan(Bscan_spectra)"
   ]
  },
  {
   "cell_type": "code",
   "execution_count": 494,
   "metadata": {},
   "outputs": [
    {
     "data": {
      "text/plain": [
       "<matplotlib.image.AxesImage at 0x1559d65c0>"
      ]
     },
     "execution_count": 494,
     "metadata": {},
     "output_type": "execute_result"
    },
    {
     "data": {
      "image/png": "[encoded data removed]",
      "text/plain": [
       "<Figure size 864x1080 with 1 Axes>"
      ]
     },
     "metadata": {},
     "output_type": "display_data"
    }
   ],
   "source": [
    "fig = plt.figure(figsize=(12,15))\n",
    "plt.imshow(np.log(Bscan))\n"
   ]
  },
  {
   "cell_type": "code",
   "execution_count": 504,
   "metadata": {},
   "outputs": [
    {
     "data": {
      "text/plain": [
       "[<matplotlib.lines.Line2D at 0x156538d30>]"
      ]
     },
     "execution_count": 504,
     "metadata": {},
     "output_type": "execute_result"
    },
    {
     "data": {
      "image/png": "[encoded data removed]",
      "text/plain": [
       "<Figure size 432x288 with 1 Axes>"
      ]
     },
     "metadata": {},
     "output_type": "display_data"
    }
   ],
   "source": [
    "plt.plot(Bscan[50]-Bscan[51])"
   ]
  },
  {
   "cell_type": "code",
   "execution_count": null,
   "metadata": {},
   "outputs": [],
   "source": []
  },
  {
   "cell_type": "code",
   "execution_count": null,
   "metadata": {},
   "outputs": [],
   "source": []
  }
 ],
 "metadata": {
  "kernelspec": {
   "display_name": "Python 3",
   "language": "python",
   "name": "python3"
  },
  "language_info": {
   "codemirror_mode": {
    "name": "ipython",
    "version": 3
   },
   "file_extension": ".py",
   "mimetype": "text/x-python",
   "name": "python",
   "nbconvert_exporter": "python",
   "pygments_lexer": "ipython3",
   "version": "3.6.5"
  }
 },
 "nbformat": 4,
 "nbformat_minor": 2
}
