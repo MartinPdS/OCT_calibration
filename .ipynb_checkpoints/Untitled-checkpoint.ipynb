{
 "cells": [
  {
   "cell_type": "code",
   "execution_count": 11,
   "metadata": {},
   "outputs": [],
   "source": [
    "from scipy import signal\n",
    "import numpy as np\n",
    "import matplotlib.pyplot as plt"
   ]
  },
  {
   "cell_type": "code",
   "execution_count": 4,
   "metadata": {},
   "outputs": [],
   "source": [
    "randgen = np.random.RandomState(9)"
   ]
  },
  {
   "cell_type": "code",
   "execution_count": 18,
   "metadata": {},
   "outputs": [],
   "source": [
    "data = np.random.rand(30,30) +10"
   ]
  },
  {
   "cell_type": "code",
   "execution_count": 19,
   "metadata": {},
   "outputs": [
    {
     "data": {
      "text/plain": [
       "False"
      ]
     },
     "execution_count": 19,
     "metadata": {},
     "output_type": "execute_result"
    }
   ],
   "source": [
    "(signal.detrend(x) - noise).max() < 0.01"
   ]
  },
  {
   "cell_type": "code",
   "execution_count": 22,
   "metadata": {},
   "outputs": [
    {
     "data": {
      "image/png": "[encoded data removed]",
      "text/plain": [
       "<Figure size 432x288 with 1 Axes>"
      ]
     },
     "metadata": {
      "needs_background": "light"
     },
     "output_type": "display_data"
    },
    {
     "name": "stdout",
     "output_type": "stream",
     "text": [
      "10.498844199794945\n"
     ]
    }
   ],
   "source": [
    "plt.imshow(data)\n",
    "plt.show()\n",
    "print(np.mean(data.ravel()))"
   ]
  },
  {
   "cell_type": "code",
   "execution_count": 21,
   "metadata": {},
   "outputs": [
    {
     "data": {
      "image/png": "[encoded data removed]",
      "text/plain": [
       "<Figure size 432x288 with 1 Axes>"
      ]
     },
     "metadata": {
      "needs_background": "light"
     },
     "output_type": "display_data"
    }
   ],
   "source": [
    "plt.imshow(signal.detrend(data))\n",
    "plt.show()\n",
    "print(np.mean(data.ravel()))"
   ]
  },
  {
   "cell_type": "code",
   "execution_count": null,
   "metadata": {},
   "outputs": [],
   "source": []
  },
  {
   "cell_type": "code",
   "execution_count": null,
   "metadata": {},
   "outputs": [],
   "source": []
  },
  {
   "cell_type": "code",
   "execution_count": null,
   "metadata": {},
   "outputs": [],
   "source": []
  },
  {
   "cell_type": "code",
   "execution_count": 20,
   "metadata": {},
   "outputs": [],
   "source": [
    "data = np.random.rand(30,30)"
   ]
  },
  {
   "cell_type": "code",
   "execution_count": null,
   "metadata": {},
   "outputs": [],
   "source": []
  },
  {
   "cell_type": "code",
   "execution_count": null,
   "metadata": {},
   "outputs": [],
   "source": []
  },
  {
   "cell_type": "code",
   "execution_count": null,
   "metadata": {},
   "outputs": [],
   "source": []
  },
  {
   "cell_type": "code",
   "execution_count": null,
   "metadata": {},
   "outputs": [],
   "source": []
  },
  {
   "cell_type": "code",
   "execution_count": null,
   "metadata": {},
   "outputs": [],
   "source": []
  },
  {
   "cell_type": "code",
   "execution_count": 1,
   "metadata": {},
   "outputs": [],
   "source": [
    "import numba, numpy as np\n",
    "from scipy import signal"
   ]
  },
  {
   "cell_type": "code",
   "execution_count": null,
   "metadata": {},
   "outputs": [],
   "source": [
    "def foo()"
   ]
  },
  {
   "cell_type": "code",
   "execution_count": 9,
   "metadata": {},
   "outputs": [
    {
     "name": "stdout",
     "output_type": "stream",
     "text": [
      "lol\n",
      "lol\n",
      "lol\n",
      "lol\n",
      "lol\n"
     ]
    }
   ],
   "source": [
    "\n",
    "\n",
    "# Define the row-wise function to be vectorized:\n",
    "@numba.guvectorize([\"void(float64[:], float64[:],float64)\"],\"(n),(n)->()\")\n",
    "def f(a,c,b):\n",
    "    print('lol')\n",
    "\n",
    "a = np.arange(10).reshape(5,2)\n",
    "b = f(a,a)   "
   ]
  },
  {
   "cell_type": "code",
   "execution_count": 113,
   "metadata": {},
   "outputs": [],
   "source": [
    "from numba import objmode, njit"
   ]
  },
  {
   "cell_type": "code",
   "execution_count": null,
   "metadata": {},
   "outputs": [],
   "source": []
  },
  {
   "cell_type": "code",
   "execution_count": 153,
   "metadata": {},
   "outputs": [],
   "source": [
    "@njit\n",
    "def test2(a, b, data):\n",
    "\n",
    "    with objmode(y='float64[:]'):\n",
    "        y = signal.filtfilt(b, a, data, padlen=15)\n",
    "    return y\n"
   ]
  },
  {
   "cell_type": "code",
   "execution_count": 104,
   "metadata": {},
   "outputs": [],
   "source": [
    "\n",
    "def butter_highpass(cutoff, fs, order=5):\n",
    "\n",
    "    nyq = 0.5 * fs\n",
    "    normal_cutoff = cutoff / nyq\n",
    "    b, a = signal.butter(order,\n",
    "                         normal_cutoff,\n",
    "                         btype='high',\n",
    "                         analog=False)\n",
    "    return b, a"
   ]
  },
  {
   "cell_type": "code",
   "execution_count": 200,
   "metadata": {},
   "outputs": [],
   "source": [
    "\n",
    "@numba.guvectorize([\"float64[:],float64[:],float64[:],float64[:]\"], \"(n),(p),(p)->(n)\")\n",
    "def foo(data, a, b, y):\n",
    "    #hh = test2(b, a, data)\n",
    "    print(np.shape(data))\n",
    "    y = data + 10\n",
    "\n"
   ]
  },
  {
   "cell_type": "code",
   "execution_count": 201,
   "metadata": {},
   "outputs": [
    {
     "name": "stdout",
     "output_type": "stream",
     "text": [
      "(100,)\n",
      "(100,)\n",
      "(100,)\n",
      "(100,)\n",
      "(100,)\n",
      "(100,)\n",
      "(100,)\n",
      "(100,)\n",
      "(100,)\n",
      "(100,)\n"
     ]
    }
   ],
   "source": [
    "b, a = signal.butter(5,\n",
    "                     0.1,\n",
    "                     btype='high',\n",
    "                     analog=False)\n",
    "\n",
    "data = np.random.rand(10,100).astype(np.float64)\n",
    "\n",
    "\n",
    "y = foo(data,np.ones(3), np.ones(3))"
   ]
  },
  {
   "cell_type": "code",
   "execution_count": 202,
   "metadata": {},
   "outputs": [
    {
     "data": {
      "text/plain": [
       "array([[6.72915495e-312, 6.72922503e-312, 7.57551923e-001,\n",
       "        6.38026973e-001, 4.29146630e-001, 5.55528173e-001,\n",
       "        5.24068048e-001, 3.62930768e-001, 4.53343113e-001,\n",
       "        8.75682885e-001, 7.03516641e-001, 1.25503056e-001,\n",
       "        4.07101171e-001, 8.72583454e-001, 6.43487849e-001,\n",
       "        3.47302163e-001, 5.61298411e-002, 2.09371401e-002,\n",
       "        9.50098948e-001, 6.82346105e-001, 2.24682673e-001,\n",
       "        1.86268490e-001, 9.01066847e-001, 6.24821966e-001,\n",
       "        7.91795992e-001, 6.43947615e-001, 5.84824700e-001,\n",
       "        2.50841449e-003, 1.49099506e-001, 9.89513234e-001,\n",
       "        8.03410763e-001, 1.73098974e-001, 3.67311093e-001,\n",
       "        8.48469972e-001, 6.28841960e-001, 7.72971271e-001,\n",
       "        2.85214120e-002, 4.26840038e-001, 6.43260297e-001,\n",
       "        3.40946240e-001, 7.28347294e-001, 9.74432180e-001,\n",
       "        7.94125144e-001, 9.03674712e-001, 6.73888007e-001,\n",
       "        3.28349848e-001, 7.78150747e-001, 5.46192652e-001,\n",
       "        7.14034955e-001, 9.06584607e-001, 8.51330066e-001,\n",
       "        5.23995141e-001, 9.02339053e-001, 4.58033741e-001,\n",
       "        3.04592007e-001, 3.90774124e-001, 2.58248706e-002,\n",
       "        2.26243202e-001, 7.97954084e-001, 7.57496315e-001,\n",
       "        5.88364764e-001, 7.47595298e-001, 4.41607736e-001,\n",
       "        4.90121514e-001, 2.39321713e-001, 6.12967548e-002,\n",
       "        4.94091098e-001, 4.43952835e-001, 2.09731216e-002,\n",
       "        9.44976573e-001, 4.57091273e-001, 7.14128440e-001,\n",
       "        5.33511475e-001, 1.83132619e-001, 5.03899097e-001,\n",
       "        1.23008869e-002, 2.15765556e-001, 5.29363546e-001,\n",
       "        4.83558543e-001, 7.65416452e-001, 8.60835761e-001,\n",
       "        6.98437316e-001, 7.40298138e-001, 7.79707125e-001,\n",
       "        9.85436255e-001, 3.55898633e-001, 1.92595669e-001,\n",
       "        5.98759882e-001, 7.05989501e-001, 5.63620842e-003,\n",
       "        6.70504461e-001, 2.50878901e-001, 5.99574334e-001,\n",
       "        7.72348561e-001, 4.83183372e-001, 4.31296643e-001,\n",
       "        9.60618171e-001, 2.60746575e-001, 7.12178271e-001,\n",
       "        2.32301713e-002],\n",
       "       [3.95044500e-001, 1.01239330e-001, 1.70663611e-001,\n",
       "        2.38809232e-001, 2.67651630e-001, 2.22226252e-001,\n",
       "        3.84001620e-001, 5.95258026e-001, 4.63057597e-002,\n",
       "        3.72243463e-001, 9.59393273e-001, 7.43737158e-001,\n",
       "        5.22488320e-001, 7.99075885e-001, 7.12419092e-001,\n",
       "        9.47197049e-001, 9.35786208e-001, 8.23142000e-002,\n",
       "        3.60836784e-001, 9.88139651e-001, 8.13249134e-001,\n",
       "        4.73996361e-001, 6.12246853e-001, 8.58890537e-001,\n",
       "        1.17952750e-001, 4.01486139e-001, 4.89615109e-001,\n",
       "        4.79821605e-001, 2.86543277e-001, 5.59818332e-001,\n",
       "        2.82061018e-001, 7.32140544e-001, 7.23683664e-001,\n",
       "        5.06832753e-001, 3.15516646e-001, 8.27726504e-001,\n",
       "        2.81502497e-001, 8.55611249e-001, 4.40510039e-001,\n",
       "        7.96576961e-001, 9.45559735e-001, 9.60423609e-001,\n",
       "        5.99763468e-001, 9.29479328e-001, 2.17153617e-001,\n",
       "        4.46701292e-001, 8.56697634e-001, 1.46901473e-001,\n",
       "        8.78575484e-001, 2.22302683e-001, 1.25948617e-002,\n",
       "        3.32558670e-001, 3.29400918e-001, 2.90228768e-001,\n",
       "        1.56805801e-001, 2.52975561e-001, 3.35286778e-001,\n",
       "        9.16179820e-001, 9.66127281e-001, 8.31114602e-001,\n",
       "        7.80996804e-001, 7.12351680e-001, 4.28341875e-001,\n",
       "        9.99048403e-001, 1.51153350e-001, 5.04195688e-001,\n",
       "        7.78056704e-001, 1.87449892e-001, 2.00961181e-001,\n",
       "        3.71252702e-001, 3.66512266e-001, 5.25019134e-001,\n",
       "        3.81994129e-001, 9.04695065e-001, 7.63678513e-001,\n",
       "        8.23872724e-001, 3.59304798e-001, 1.80947455e-001,\n",
       "        9.21467846e-001, 8.21889553e-001, 7.63908420e-001,\n",
       "        6.48016226e-001, 7.47712916e-002, 7.43107608e-001,\n",
       "        5.06793416e-001, 5.02661408e-001, 7.99379615e-001,\n",
       "        4.68891655e-001, 8.14386998e-001, 5.25924771e-001,\n",
       "        4.56428084e-001, 1.14283397e-001, 7.32676706e-001,\n",
       "        1.85064966e-001, 3.52025090e-001, 2.78269391e-001,\n",
       "        6.98041820e-003, 8.31073725e-001, 3.24954797e-001,\n",
       "        9.66108925e-001],\n",
       "       [2.02145545e-001, 5.96493882e-001, 5.51927570e-002,\n",
       "        7.11810758e-001, 8.73875510e-001, 5.87512078e-001,\n",
       "        5.22337204e-001, 2.53684368e-001, 9.75956067e-001,\n",
       "        1.19374489e-002, 4.21501234e-001, 9.16578176e-001,\n",
       "        7.95541794e-001, 5.21694091e-001, 2.06876819e-001,\n",
       "        8.09385542e-001, 1.57939239e-001, 6.29201801e-001,\n",
       "        1.74950811e-001, 5.75223946e-001, 9.16405796e-003,\n",
       "        9.03391103e-001, 8.43215725e-001, 2.44313381e-001,\n",
       "        5.54840881e-001, 8.81029095e-002, 1.79336767e-001,\n",
       "        4.79364197e-002, 3.76675327e-001, 2.27371958e-001,\n",
       "        5.13366419e-001, 8.69521127e-001, 7.95945102e-001,\n",
       "        9.29413691e-001, 9.60829000e-001, 2.07615734e-001,\n",
       "        9.28530873e-001, 4.60205823e-001, 2.45032910e-001,\n",
       "        9.36185133e-001, 9.37105894e-001, 9.83885928e-001,\n",
       "        9.16542264e-001, 7.13005908e-001, 1.25187680e-002,\n",
       "        3.70901338e-001, 4.92495497e-002, 2.00804171e-001,\n",
       "        4.83601463e-001, 8.20910621e-001, 7.21989523e-001,\n",
       "        2.35788047e-001, 8.17772907e-002, 2.58924564e-001,\n",
       "        3.03090015e-001, 7.41686760e-001, 5.03037931e-001,\n",
       "        6.79406796e-001, 5.35132906e-001, 7.29726901e-001,\n",
       "        5.97284104e-001, 7.11458939e-001, 2.91320442e-001,\n",
       "        6.85509794e-001, 4.70072456e-001, 9.56037654e-001,\n",
       "        6.77237703e-001, 6.30828194e-001, 7.81527240e-001,\n",
       "        8.22971678e-001, 9.36069798e-001, 6.93098699e-001,\n",
       "        3.58369582e-001, 8.92046407e-001, 9.09798347e-001,\n",
       "        6.89641408e-001, 4.04594268e-001, 8.07209426e-001,\n",
       "        7.51662579e-001, 8.43952764e-003, 8.18132444e-001,\n",
       "        7.12195059e-001, 9.82116617e-001, 7.45524823e-001,\n",
       "        5.60927408e-001, 6.83547071e-001, 4.18567112e-001,\n",
       "        1.40603767e-001, 8.58409237e-001, 3.49140768e-002,\n",
       "        6.59543847e-001, 4.77809973e-001, 8.16996252e-001,\n",
       "        2.88312719e-001, 4.36148147e-001, 5.85801850e-001,\n",
       "        4.35230746e-001, 3.03156218e-001, 3.05470675e-001,\n",
       "        1.69395241e-001],\n",
       "       [7.53078536e-002, 2.32150538e-001, 3.34240590e-001,\n",
       "        6.09516426e-001, 2.91665862e-001, 1.79006892e-001,\n",
       "        4.41736605e-002, 3.57072227e-001, 7.97430297e-001,\n",
       "        4.67955390e-001, 1.89509533e-001, 1.05049613e-001,\n",
       "        4.33742719e-001, 1.01886158e-001, 7.90950794e-001,\n",
       "        1.07632568e-001, 3.76322994e-001, 1.61540470e-001,\n",
       "        1.66856709e-001, 2.14990054e-001, 4.69276753e-001,\n",
       "        1.58623477e-003, 3.43999507e-001, 2.05639972e-001,\n",
       "        8.17929625e-001, 1.45912464e-001, 2.14196272e-001,\n",
       "        5.40364634e-001, 3.34890654e-001, 1.15787354e-001,\n",
       "        9.31279369e-001, 3.09087227e-003, 3.28360983e-002,\n",
       "        6.77912116e-001, 3.25814824e-001, 9.14683323e-001,\n",
       "        1.14526260e-001, 2.59000105e-001, 3.91575575e-001,\n",
       "        1.70573453e-001, 1.61392025e-001, 4.20353337e-001,\n",
       "        8.17799809e-001, 4.84570461e-001, 5.77895521e-001,\n",
       "        1.30513025e-001, 3.58835994e-001, 9.60093768e-001,\n",
       "        5.07021523e-001, 3.60068092e-001, 3.89363145e-001,\n",
       "        5.69687479e-001, 2.43812581e-001, 8.14420711e-001,\n",
       "        2.47335809e-001, 8.77453179e-001, 4.02085630e-001,\n",
       "        4.65259561e-001, 5.54114552e-001, 2.47918718e-001,\n",
       "        1.38843023e-001, 5.76105789e-001, 5.05296874e-001,\n",
       "        8.33225144e-001, 9.69496592e-001, 5.58330858e-003,\n",
       "        5.61937112e-001, 3.08080333e-001, 5.38348488e-001,\n",
       "        7.81003275e-001, 5.67947797e-001, 2.38999632e-001,\n",
       "        3.93221767e-001, 3.56403281e-001, 3.38803901e-001,\n",
       "        6.77864992e-001, 5.56618230e-001, 3.31880058e-001,\n",
       "        3.36973784e-001, 8.70542941e-001, 5.46696737e-001,\n",
       "        1.47090305e-001, 6.58991488e-001, 7.74795992e-001,\n",
       "        3.16641147e-001, 9.46625514e-001, 3.21896494e-002,\n",
       "        6.48847263e-001, 8.96479111e-001, 8.66313542e-001,\n",
       "        7.41238079e-001, 4.91520307e-001, 1.44451075e-001,\n",
       "        8.13714140e-001, 7.81300142e-001, 8.39993573e-001,\n",
       "        5.27898213e-001, 5.30797035e-001, 3.75758794e-001,\n",
       "        6.95582044e-001],\n",
       "       [7.50544536e-001, 5.13260408e-001, 1.95602993e-001,\n",
       "        7.46348826e-001, 2.42275533e-001, 9.94418429e-003,\n",
       "        5.86547148e-001, 2.30674023e-001, 1.57565008e-001,\n",
       "        3.15641037e-001, 7.51955705e-002, 7.99093127e-001,\n",
       "        1.77271487e-001, 8.73917134e-001, 6.46441696e-001,\n",
       "        8.14455181e-001, 4.33741186e-001, 8.30994868e-001,\n",
       "        8.34548931e-001, 1.30653143e-001, 4.27116533e-001,\n",
       "        8.10391618e-001, 1.53178469e-002, 5.38416205e-001,\n",
       "        9.83114848e-001, 1.28021259e-001, 6.94293581e-001,\n",
       "        7.36976198e-001, 6.46662098e-001, 4.70976923e-002,\n",
       "        4.64024852e-001, 2.95626592e-001, 3.88672196e-002,\n",
       "        5.46114461e-001, 1.61171650e-001, 1.25743806e-002,\n",
       "        8.36456821e-001, 4.09695186e-001, 7.57536366e-001,\n",
       "        4.60730243e-001, 3.33158032e-001, 8.12337903e-001,\n",
       "        2.46889681e-001, 2.04481735e-001, 2.04636531e-001,\n",
       "        3.27001304e-001, 3.56624610e-001, 5.04128704e-001,\n",
       "        6.43159914e-001, 8.29474972e-001, 6.90633556e-001,\n",
       "        5.59737776e-001, 7.86545053e-001, 9.90284756e-001,\n",
       "        2.72364017e-001, 1.62959323e-001, 1.22807181e-001,\n",
       "        5.32031012e-001, 9.71426766e-001, 9.88066887e-001,\n",
       "        4.86340324e-001, 9.30889281e-002, 1.82531393e-001,\n",
       "        4.62919354e-001, 4.29432789e-001, 8.99721731e-001,\n",
       "        7.21328010e-001, 4.04286689e-002, 1.13872174e-001,\n",
       "        2.52562407e-001, 3.65877813e-002, 2.06948678e-001,\n",
       "        5.56264508e-001, 1.10633840e-001, 1.52938920e-001,\n",
       "        4.50415995e-001, 5.09368809e-001, 7.97542998e-001,\n",
       "        5.01019805e-001, 5.37603680e-001, 9.35447612e-001,\n",
       "        7.42556777e-001, 9.07801797e-001, 3.72686392e-001,\n",
       "        8.59832888e-001, 8.68544464e-001, 5.59223227e-001,\n",
       "        7.59842700e-001, 8.24774614e-001, 9.10416933e-001,\n",
       "        7.86609040e-001, 6.51883927e-001, 6.23388053e-001,\n",
       "        9.12746474e-001, 2.14102565e-001, 2.73006372e-001,\n",
       "        1.99184560e-001, 8.83012328e-001, 7.01981319e-001,\n",
       "        9.00313024e-001],\n",
       "       [7.98833488e-001, 4.26813803e-001, 6.70179429e-001,\n",
       "        5.74338018e-001, 2.57062042e-001, 6.13587146e-001,\n",
       "        3.78659628e-001, 6.63514748e-001, 1.04729221e-001,\n",
       "        4.82153033e-001, 5.41601222e-001, 6.17478437e-001,\n",
       "        4.77493823e-001, 3.06123507e-002, 1.80827175e-001,\n",
       "        6.32922845e-001, 1.24582942e-001, 6.26626460e-002,\n",
       "        4.84805443e-001, 3.83504760e-001, 6.57611079e-001,\n",
       "        8.09656095e-001, 4.59264361e-001, 1.10764817e-001,\n",
       "        3.38547337e-001, 9.29941028e-001, 8.04878200e-001,\n",
       "        6.60804361e-001, 6.54095000e-001, 1.01570312e-001,\n",
       "        5.54756289e-001, 6.26021459e-003, 1.22423077e-001,\n",
       "        5.55882748e-001, 4.97831908e-002, 8.35314815e-001,\n",
       "        8.19034383e-001, 5.97566254e-001, 1.68124995e-001,\n",
       "        4.13818798e-001, 3.39205303e-002, 7.65763043e-001,\n",
       "        6.28124414e-001, 6.40755048e-001, 1.18918889e-001,\n",
       "        9.51596590e-001, 6.51221906e-001, 8.85208604e-001,\n",
       "        4.17196215e-001, 6.75682415e-001, 5.28005075e-001,\n",
       "        2.49513804e-001, 2.22473446e-001, 5.23085863e-001,\n",
       "        2.00038704e-001, 3.00845623e-001, 5.11783949e-001,\n",
       "        7.97492669e-001, 1.88050480e-001, 4.86881178e-001,\n",
       "        5.11330423e-001, 7.67200293e-003, 6.37198850e-001,\n",
       "        7.43537344e-001, 1.44773841e-002, 1.64390273e-001,\n",
       "        7.03481551e-001, 3.46414774e-001, 9.43499465e-001,\n",
       "        7.68006445e-001, 8.91767749e-001, 3.18229885e-001,\n",
       "        6.09099715e-001, 1.85397568e-001, 3.16673004e-002,\n",
       "        2.18190271e-001, 8.96741355e-001, 1.57079249e-001,\n",
       "        4.39399802e-001, 8.06811916e-001, 3.39605523e-001,\n",
       "        5.87954993e-001, 2.32126150e-001, 4.13513836e-002,\n",
       "        4.34979350e-001, 3.97420035e-001, 4.63233596e-001,\n",
       "        5.50453345e-001, 7.43021484e-001, 4.52328189e-001,\n",
       "        8.39799907e-003, 9.15631420e-001, 2.72918381e-001,\n",
       "        2.23188019e-001, 7.11448061e-001, 6.72279339e-001,\n",
       "        4.39626860e-001, 3.56951986e-001, 9.96616285e-001,\n",
       "        3.11885934e-001],\n",
       "       [6.05414385e-001, 6.64417410e-001, 6.06908401e-001,\n",
       "        8.90552977e-001, 4.57519765e-001, 3.16606779e-001,\n",
       "        4.00276052e-001, 6.75079562e-001, 7.59723271e-001,\n",
       "        9.75184166e-001, 2.86129579e-002, 5.15844061e-001,\n",
       "        9.70825769e-001, 7.82256103e-001, 7.07317260e-001,\n",
       "        5.45538148e-001, 2.31646693e-001, 1.56383498e-001,\n",
       "        2.58827256e-001, 8.18808472e-001, 9.85184397e-001,\n",
       "        8.23999289e-001, 8.23295354e-002, 9.98065300e-001,\n",
       "        3.35098289e-001, 8.49299967e-001, 1.58079661e-001,\n",
       "        2.37517731e-001, 3.76204615e-001, 1.37982378e-001,\n",
       "        5.30485759e-001, 2.63249872e-001, 5.13644647e-001,\n",
       "        6.87085084e-001, 5.03436429e-001, 7.56754151e-001,\n",
       "        7.99291011e-001, 2.49598858e-001, 5.29334642e-001,\n",
       "        6.73426863e-001, 9.52218841e-001, 9.28032430e-001,\n",
       "        5.78521300e-001, 8.98634754e-001, 8.58377412e-001,\n",
       "        5.68088353e-002, 8.28401382e-001, 7.55938344e-001,\n",
       "        2.71162759e-002, 1.44256771e-001, 7.62865291e-001,\n",
       "        1.17113001e-001, 4.93337631e-001, 6.25262276e-001,\n",
       "        1.47576437e-001, 8.21966301e-001, 8.73182467e-001,\n",
       "        8.55202795e-001, 7.06311063e-001, 2.66718613e-001,\n",
       "        6.99245200e-002, 7.76508470e-001, 5.42997804e-001,\n",
       "        9.64187065e-001, 5.88988549e-001, 1.75078166e-001,\n",
       "        2.74036399e-001, 8.64766946e-001, 3.94190631e-001,\n",
       "        4.59709986e-001, 8.82707478e-001, 5.18028991e-001,\n",
       "        2.22064677e-001, 7.62475651e-001, 7.07152401e-001,\n",
       "        5.03376327e-001, 4.30022380e-001, 6.19608523e-001,\n",
       "        6.51662352e-002, 3.41449600e-001, 8.90823520e-001,\n",
       "        2.49740744e-001, 3.08942964e-001, 1.13057997e-001,\n",
       "        1.83232697e-001, 8.53342219e-001, 3.92340546e-001,\n",
       "        2.89506203e-001, 1.78922940e-001, 2.23339477e-001,\n",
       "        9.49407170e-002, 1.28739335e-001, 6.72771868e-001,\n",
       "        6.71692259e-001, 6.71495544e-001, 2.25806129e-001,\n",
       "        9.18712959e-003, 2.47844065e-001, 1.64231602e-001,\n",
       "        8.37421512e-001],\n",
       "       [5.24952424e-001, 6.58381974e-001, 2.67641126e-001,\n",
       "        9.86798612e-001, 3.98549572e-001, 8.00484747e-001,\n",
       "        7.03861890e-001, 6.65264996e-001, 4.02981838e-001,\n",
       "        7.14890798e-001, 1.79442946e-001, 1.51296281e-001,\n",
       "        3.23830986e-001, 2.65649474e-002, 9.69228792e-001,\n",
       "        3.33064835e-001, 4.84851856e-001, 8.70702268e-001,\n",
       "        2.50949683e-001, 1.44340297e-002, 9.14611831e-001,\n",
       "        2.32622485e-001, 1.98858307e-001, 3.48497580e-001,\n",
       "        9.12974140e-001, 6.57987646e-001, 7.82087273e-001,\n",
       "        5.31180348e-001, 5.76408146e-001, 6.53135276e-001,\n",
       "        3.38104868e-001, 9.76368628e-001, 3.26720695e-001,\n",
       "        5.91841339e-002, 1.92802567e-001, 6.63277318e-001,\n",
       "        9.85063074e-001, 1.05870271e-001, 3.81134251e-001,\n",
       "        7.84790196e-001, 6.32672616e-002, 2.34094378e-001,\n",
       "        3.64291259e-001, 4.65587108e-001, 5.20946305e-001,\n",
       "        3.75602020e-001, 1.30978673e-001, 9.03425457e-001,\n",
       "        2.16493281e-002, 2.05685474e-001, 4.23373431e-001,\n",
       "        9.98348562e-001, 4.44983440e-001, 7.85887118e-001,\n",
       "        5.75246423e-001, 2.95168662e-001, 5.79963915e-001,\n",
       "        3.92082540e-001, 5.83847862e-001, 2.26939354e-001,\n",
       "        8.85141036e-001, 7.99361308e-001, 8.13755649e-002,\n",
       "        7.45803727e-001, 4.30255856e-001, 9.64760497e-001,\n",
       "        4.79969386e-002, 5.18282617e-001, 7.48627728e-001,\n",
       "        5.64620609e-001, 6.58394249e-001, 3.22750051e-001,\n",
       "        7.06057135e-001, 1.28877250e-001, 8.98341370e-001,\n",
       "        5.84362149e-001, 9.07007198e-001, 8.92964161e-001,\n",
       "        8.19592081e-001, 6.69886289e-001, 2.69473340e-001,\n",
       "        7.20543769e-001, 1.65177136e-001, 9.27181632e-001,\n",
       "        1.30408579e-001, 3.52216730e-001, 4.98912930e-001,\n",
       "        5.80058085e-001, 1.94282444e-001, 5.66308375e-001,\n",
       "        5.42660475e-002, 9.75043947e-001, 8.39428729e-001,\n",
       "        3.00819974e-001, 8.86287605e-002, 8.06785568e-001,\n",
       "        9.79909351e-001, 3.83980219e-001, 8.50797759e-001,\n",
       "        2.32431030e-001],\n",
       "       [1.93683662e-001, 1.75531299e-001, 7.05077913e-001,\n",
       "        2.96514301e-001, 2.00511958e-001, 9.67301198e-002,\n",
       "        5.72989765e-001, 1.75532826e-001, 4.29509418e-001,\n",
       "        8.82051416e-002, 8.64835885e-001, 3.25335237e-001,\n",
       "        1.40015058e-001, 2.82679543e-001, 8.43223508e-001,\n",
       "        3.05830261e-001, 8.82299513e-001, 5.38377999e-001,\n",
       "        4.49169889e-001, 5.19844987e-001, 3.35210496e-001,\n",
       "        2.66258385e-001, 5.52948936e-001, 9.91343341e-002,\n",
       "        2.88093666e-001, 7.88695749e-001, 2.92545896e-001,\n",
       "        2.36176398e-001, 9.54670403e-001, 3.54475537e-002,\n",
       "        6.54679987e-001, 8.68732117e-002, 5.70359188e-001,\n",
       "        5.74823905e-001, 8.92084422e-001, 9.35151585e-001,\n",
       "        4.47237193e-001, 1.31389959e-001, 9.90492854e-001,\n",
       "        1.14670284e-001, 9.17884573e-001, 7.32410439e-001,\n",
       "        2.13124966e-002, 2.61963181e-001, 7.11149811e-001,\n",
       "        3.54776555e-001, 9.61092582e-001, 9.29444367e-001,\n",
       "        3.77620905e-002, 6.00401715e-002, 5.31895337e-001,\n",
       "        5.75979871e-003, 6.55012745e-001, 4.10069371e-001,\n",
       "        3.41736723e-001, 7.91466987e-002, 6.74641038e-002,\n",
       "        9.69804441e-001, 1.25420317e-001, 4.15780456e-001,\n",
       "        7.21539462e-001, 9.93890827e-001, 5.95082880e-001,\n",
       "        4.29335881e-001, 1.91605140e-001, 3.27395899e-001,\n",
       "        5.27044184e-001, 1.14688706e-001, 5.22648617e-001,\n",
       "        9.97078478e-001, 7.17103505e-001, 4.54555221e-001,\n",
       "        1.03562969e-001, 8.92613422e-001, 9.11279289e-001,\n",
       "        3.52181683e-001, 8.21066555e-002, 6.08867190e-001,\n",
       "        6.69996600e-001, 6.33233608e-001, 1.02366486e-001,\n",
       "        4.75918385e-001, 7.03581418e-001, 6.87147011e-001,\n",
       "        5.54883889e-002, 8.09382592e-002, 5.70212374e-001,\n",
       "        1.44931052e-001, 9.24497898e-001, 9.40078427e-001,\n",
       "        1.99942084e-001, 3.73665196e-002, 1.53842751e-001,\n",
       "        1.48199158e-001, 3.93582871e-001, 8.35571377e-001,\n",
       "        1.55721470e-001, 7.40652620e-001, 8.08377519e-001,\n",
       "        2.23179913e-002],\n",
       "       [9.29765340e-001, 1.58022204e-001, 4.20535374e-001,\n",
       "        7.79915468e-001, 1.18329307e-001, 3.38155550e-001,\n",
       "        2.35531672e-001, 3.61206209e-001, 5.66975193e-001,\n",
       "        7.93708513e-002, 5.57302422e-001, 5.76501353e-001,\n",
       "        5.15562214e-002, 2.42162665e-001, 4.27749420e-001,\n",
       "        8.71649940e-001, 6.92657677e-001, 7.02346638e-001,\n",
       "        8.19658873e-001, 2.18841170e-001, 3.95677009e-001,\n",
       "        4.52066243e-001, 4.01892842e-001, 7.22727720e-001,\n",
       "        6.75931854e-001, 1.03690717e-001, 9.05683853e-002,\n",
       "        7.12458764e-001, 7.96311421e-003, 1.37151827e-002,\n",
       "        2.82687001e-001, 7.30876405e-001, 4.61003603e-001,\n",
       "        7.24117149e-001, 8.24072330e-001, 6.43010587e-001,\n",
       "        2.54511928e-001, 3.41569342e-001, 7.31498759e-001,\n",
       "        8.03902872e-002, 2.37485505e-001, 9.68799428e-001,\n",
       "        1.36681401e-002, 4.04245524e-001, 7.92682284e-001,\n",
       "        1.80747520e-001, 1.59552884e-003, 4.92225941e-001,\n",
       "        9.36965732e-001, 4.86534990e-001, 3.98615271e-001,\n",
       "        9.67470904e-001, 3.79906207e-001, 3.03240789e-001,\n",
       "        2.90594278e-001, 5.53041077e-001, 7.43625160e-001,\n",
       "        4.37925074e-002, 1.37600031e-001, 7.20069655e-001,\n",
       "        2.76300187e-002, 8.87302018e-001, 8.21039295e-001,\n",
       "        1.41647674e-001, 4.62728444e-001, 3.53074454e-001,\n",
       "        7.63697486e-001, 8.19774814e-001, 8.13610014e-001,\n",
       "        2.55853273e-001, 5.00181525e-001, 4.93234064e-001,\n",
       "        5.09453794e-001, 5.26271502e-001, 6.47998744e-001,\n",
       "        8.38317192e-002, 8.71452411e-001, 5.41801820e-001,\n",
       "        4.93241876e-001, 1.40570578e-002, 5.56184275e-002,\n",
       "        5.08377616e-001, 6.19276301e-001, 3.32621009e-001,\n",
       "        6.11851995e-001, 1.75960022e-001, 5.72866049e-001,\n",
       "        3.20282839e-002, 5.62134988e-001, 8.34952946e-001,\n",
       "        1.69938200e-001, 1.99193723e-002, 9.99636217e-001,\n",
       "        8.01851524e-001, 4.95823921e-001, 5.65044600e-001,\n",
       "        3.76969762e-001, 4.75159907e-001, 8.99969828e-001,\n",
       "        6.36664109e-002]])"
      ]
     },
     "execution_count": 202,
     "metadata": {},
     "output_type": "execute_result"
    }
   ],
   "source": [
    "y"
   ]
  },
  {
   "cell_type": "code",
   "execution_count": null,
   "metadata": {},
   "outputs": [],
   "source": []
  },
  {
   "cell_type": "code",
   "execution_count": null,
   "metadata": {},
   "outputs": [],
   "source": []
  },
  {
   "cell_type": "code",
   "execution_count": null,
   "metadata": {},
   "outputs": [],
   "source": []
  },
  {
   "cell_type": "code",
   "execution_count": 205,
   "metadata": {},
   "outputs": [],
   "source": [
    "@numba.guvectorize(['(int64[:], int64[:], int64[:])'], '(n),()->(n)')\n",
    "def g(x, y, res):\n",
    "    for i in range(x.shape[0]):\n",
    "        res[i] = x[i] + y[i]"
   ]
  },
  {
   "cell_type": "code",
   "execution_count": 206,
   "metadata": {},
   "outputs": [],
   "source": [
    "a = np.arange(5)"
   ]
  },
  {
   "cell_type": "code",
   "execution_count": 207,
   "metadata": {},
   "outputs": [
    {
     "data": {
      "text/plain": [
       "array([2, 3, 4, 5, 6], dtype=int64)"
      ]
     },
     "execution_count": 207,
     "metadata": {},
     "output_type": "execute_result"
    }
   ],
   "source": [
    "g(a,2)"
   ]
  },
  {
   "cell_type": "code",
   "execution_count": null,
   "metadata": {},
   "outputs": [],
   "source": []
  }
 ],
 "metadata": {
  "kernelspec": {
   "display_name": "Python 3",
   "language": "python",
   "name": "python3"
  },
  "language_info": {
   "codemirror_mode": {
    "name": "ipython",
    "version": 3
   },
   "file_extension": ".py",
   "mimetype": "text/x-python",
   "name": "python",
   "nbconvert_exporter": "python",
   "pygments_lexer": "ipython3",
   "version": "3.8.2"
  }
 },
 "nbformat": 4,
 "nbformat_minor": 4
}
