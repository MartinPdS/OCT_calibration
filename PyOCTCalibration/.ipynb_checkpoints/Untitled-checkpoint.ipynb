{
 "cells": [
  {
   "cell_type": "code",
   "execution_count": 1,
   "metadata": {},
   "outputs": [],
   "source": [
    "def load_Bscan_spectra(file_dir, block_start=276, block_end = 632084, shape1=617, shape2=1024):\n",
    "\n",
    "    data = np.fromfile(file_dir, dtype = np.uint16)\n",
    "\n",
    "    block_end = block_start + 1024*1024\n",
    "\n",
    "    block_data = data[block_start: block_end]\n",
    "    Bscan_spectra = block_data.reshape([1024,1024])\n",
    "    return Bscan_spectra\n"
   ]
  },
  {
   "cell_type": "code",
   "execution_count": 2,
   "metadata": {},
   "outputs": [],
   "source": [
    "import numpy as np"
   ]
  },
  {
   "cell_type": "code",
   "execution_count": null,
   "metadata": {},
   "outputs": [],
   "source": [
    "dir = \"/Volumes/Untitled/Calibrations/Bscan/cible_2.raw\"\n",
    "np.from "
   ]
  }
 ],
 "metadata": {
  "kernelspec": {
   "display_name": "Python 3",
   "language": "python",
   "name": "python3"
  },
  "language_info": {
   "codemirror_mode": {
    "name": "ipython",
    "version": 3
   },
   "file_extension": ".py",
   "mimetype": "text/x-python",
   "name": "python",
   "nbconvert_exporter": "python",
   "pygments_lexer": "ipython3",
   "version": "3.6.5"
  }
 },
 "nbformat": 4,
 "nbformat_minor": 2
}
