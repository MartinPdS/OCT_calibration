{
 "cells": [
  {
   "cell_type": "code",
   "execution_count": 11,
   "metadata": {},
   "outputs": [],
   "source": [
    "from scipy import signal\n",
    "import numpy as np\n",
    "import matplotlib.pyplot as plt"
   ]
  },
  {
   "cell_type": "code",
   "execution_count": 4,
   "metadata": {},
   "outputs": [],
   "source": [
    "randgen = np.random.RandomState(9)"
   ]
  },
  {
   "cell_type": "code",
   "execution_count": 18,
   "metadata": {},
   "outputs": [],
   "source": [
    "data = np.random.rand(30,30) +10"
   ]
  },
  {
   "cell_type": "code",
   "execution_count": 19,
   "metadata": {},
   "outputs": [
    {
     "data": {
      "text/plain": [
       "False"
      ]
     },
     "execution_count": 19,
     "metadata": {},
     "output_type": "execute_result"
    }
   ],
   "source": [
    "(signal.detrend(x) - noise).max() < 0.01"
   ]
  },
  {
   "cell_type": "code",
   "execution_count": 22,
   "metadata": {},
   "outputs": [
    {
     "data": {
      "image/png": "[encoded data removed]",
      "text/plain": [
       "<Figure size 432x288 with 1 Axes>"
      ]
     },
     "metadata": {
      "needs_background": "light"
     },
     "output_type": "display_data"
    },
    {
     "name": "stdout",
     "output_type": "stream",
     "text": [
      "10.498844199794945\n"
     ]
    }
   ],
   "source": [
    "plt.imshow(data)\n",
    "plt.show()\n",
    "print(np.mean(data.ravel()))"
   ]
  },
  {
   "cell_type": "code",
   "execution_count": 21,
   "metadata": {},
   "outputs": [
    {
     "data": {
      "image/png": "[encoded data removed]",
      "text/plain": [
       "<Figure size 432x288 with 1 Axes>"
      ]
     },
     "metadata": {
      "needs_background": "light"
     },
     "output_type": "display_data"
    }
   ],
   "source": [
    "plt.imshow(signal.detrend(data))\n",
    "plt.show()\n",
    "print(np.mean(data.ravel()))"
   ]
  },
  {
   "cell_type": "code",
   "execution_count": null,
   "metadata": {},
   "outputs": [],
   "source": []
  },
  {
   "cell_type": "code",
   "execution_count": null,
   "metadata": {},
   "outputs": [],
   "source": []
  },
  {
   "cell_type": "code",
   "execution_count": null,
   "metadata": {},
   "outputs": [],
   "source": []
  },
  {
   "cell_type": "code",
   "execution_count": 20,
   "metadata": {},
   "outputs": [],
   "source": [
    "data = np.random.rand(30,30)"
   ]
  },
  {
   "cell_type": "code",
   "execution_count": null,
   "metadata": {},
   "outputs": [],
   "source": []
  },
  {
   "cell_type": "code",
   "execution_count": null,
   "metadata": {},
   "outputs": [],
   "source": []
  },
  {
   "cell_type": "code",
   "execution_count": null,
   "metadata": {},
   "outputs": [],
   "source": []
  },
  {
   "cell_type": "code",
   "execution_count": null,
   "metadata": {},
   "outputs": [],
   "source": []
  },
  {
   "cell_type": "code",
   "execution_count": null,
   "metadata": {},
   "outputs": [],
   "source": []
  },
  {
   "cell_type": "code",
   "execution_count": 1,
   "metadata": {},
   "outputs": [],
   "source": [
    "import numba, numpy as np\n",
    "from scipy import signal"
   ]
  },
  {
   "cell_type": "code",
   "execution_count": null,
   "metadata": {},
   "outputs": [],
   "source": [
    "def foo()"
   ]
  },
  {
   "cell_type": "code",
   "execution_count": 9,
   "metadata": {},
   "outputs": [
    {
     "name": "stdout",
     "output_type": "stream",
     "text": [
      "lol\n",
      "lol\n",
      "lol\n",
      "lol\n",
      "lol\n"
     ]
    }
   ],
   "source": [
    "\n",
    "\n",
    "# Define the row-wise function to be vectorized:\n",
    "@numba.guvectorize([\"void(float64[:], float64[:],float64)\"],\"(n),(n)->()\")\n",
    "def f(a,c,b):\n",
    "    print('lol')\n",
    "\n",
    "a = np.arange(10).reshape(5,2)\n",
    "b = f(a,a)   "
   ]
  },
  {
   "cell_type": "code",
   "execution_count": 113,
   "metadata": {},
   "outputs": [],
   "source": [
    "from numba import objmode, njit"
   ]
  },
  {
   "cell_type": "code",
   "execution_count": null,
   "metadata": {},
   "outputs": [],
   "source": []
  },
  {
   "cell_type": "code",
   "execution_count": 355,
   "metadata": {},
   "outputs": [],
   "source": [
    "@njit\n",
    "def test2(a, b, data):\n",
    "\n",
    "    with objmode(y='float64[:]'):\n",
    "        y = signal.filtfilt(b, a, data, padlen=15)\n",
    "    return y.astype(np.float64)\n"
   ]
  },
  {
   "cell_type": "code",
   "execution_count": 104,
   "metadata": {},
   "outputs": [],
   "source": [
    "\n",
    "def butter_highpass(cutoff, fs, order=5):\n",
    "\n",
    "    nyq = 0.5 * fs\n",
    "    normal_cutoff = cutoff / nyq\n",
    "    b, a = signal.butter(order,\n",
    "                         normal_cutoff,\n",
    "                         btype='high',\n",
    "                         analog=False)\n",
    "    return b, a"
   ]
  },
  {
   "cell_type": "code",
   "execution_count": 286,
   "metadata": {},
   "outputs": [],
   "source": [
    "\n",
    "@numba.guvectorize([\"float64[:],float64[:],float64[:],float64[:]\"], \"(n),(p),(q)->(n)\")\n",
    "def foo(data, a, b, y):\n",
    "    #hh = test2(b, a, data)\n",
    "    print(np.shape(y))\n",
    "    y = np.float(10) + data\n",
    "    y = y.astype(np.float64)\n",
    "\n"
   ]
  },
  {
   "cell_type": "code",
   "execution_count": 287,
   "metadata": {},
   "outputs": [
    {
     "name": "stdout",
     "output_type": "stream",
     "text": [
      "(100,)\n",
      "(100,)\n",
      "(100,)\n",
      "(100,)\n",
      "(100,)\n",
      "(100,)\n",
      "(100,)\n",
      "(100,)\n",
      "(100,)\n",
      "(100,)\n"
     ]
    }
   ],
   "source": [
    "b, a = signal.butter(5,\n",
    "                     0.1,\n",
    "                     btype='high',\n",
    "                     analog=False)\n",
    "\n",
    "data = np.random.rand(10,100).astype(np.float64)\n",
    "\n",
    "\n",
    "y = foo( data, np.ones(3).astype(np.float64), np.ones(3).astype(np.float64) )"
   ]
  },
  {
   "cell_type": "code",
   "execution_count": null,
   "metadata": {},
   "outputs": [],
   "source": []
  },
  {
   "cell_type": "code",
   "execution_count": null,
   "metadata": {},
   "outputs": [],
   "source": []
  },
  {
   "cell_type": "code",
   "execution_count": null,
   "metadata": {},
   "outputs": [],
   "source": []
  },
  {
   "cell_type": "code",
   "execution_count": null,
   "metadata": {},
   "outputs": [],
   "source": []
  },
  {
   "cell_type": "code",
   "execution_count": 484,
   "metadata": {},
   "outputs": [],
   "source": [
    "global a, b\n",
    "b, a = signal.butter(5,\n",
    "                     0.1,\n",
    "                     btype='high',\n",
    "                     analog=False)\n",
    "\n",
    "\n",
    "@numba.guvectorize(['(float64[:], float64, float64[:])'], '(n),()->(n)')\n",
    "def g(data, y, res):\n",
    "    hh = test2(b, a, data)\n",
    "    print(hh)\n",
    "    for i in range(data.shape[0]):\n",
    "       res[i] = hh[i]"
   ]
  },
  {
   "cell_type": "code",
   "execution_count": 485,
   "metadata": {},
   "outputs": [
    {
     "name": "stdout",
     "output_type": "stream",
     "text": [
      "[-28620717.8489071  -28620715.4994006  -28620713.15614985\n",
      " -28620710.81914682 -28620708.48838315 -28620706.16385017\n",
      " -28620703.8455389  -28620701.53344002 -28620699.22754393\n",
      " -28620696.92784073 -28620694.63432021 -28620692.34697185\n",
      " -28620690.06578478 -28620687.79074781 -28620685.52184945\n",
      " -28620683.25907787 -28620681.00242099 -28620678.75186651\n",
      " -28620676.50740188 -28620674.26901429 -28620672.03669075\n",
      " -28620669.81041802 -28620667.59018268 -28620665.37597108\n",
      " -28620663.16776934 -28620660.96556341 -28620658.76933901\n",
      " -28620656.57908171 -28620654.39477686 -28620652.21640966\n",
      " -28620650.04396516 -28620647.87742817 -28620645.71678332\n",
      " -28620643.56201505 -28620641.41310758 -28620639.27004499\n",
      " -28620637.13281116 -28620635.00138982 -28620632.87576459\n",
      " -28620630.75591893 -28620628.64183621 -28620626.5334997\n",
      " -28620624.43089256 -28620622.33399783 -28620620.24279847\n",
      " -28620618.15727736 -28620616.07741733 -28620614.00320116\n",
      " -28620611.93461158 -28620609.87163128]\n"
     ]
    },
    {
     "data": {
      "text/plain": [
       "array([-28620717.8489071 , -28620715.4994006 , -28620713.15614985,\n",
       "       -28620710.81914682, -28620708.48838315, -28620706.16385017,\n",
       "       -28620703.8455389 , -28620701.53344002, -28620699.22754393,\n",
       "       -28620696.92784073, -28620694.63432021, -28620692.34697185,\n",
       "       -28620690.06578478, -28620687.79074781, -28620685.52184945,\n",
       "       -28620683.25907787, -28620681.00242099, -28620678.75186651,\n",
       "       -28620676.50740188, -28620674.26901429, -28620672.03669075,\n",
       "       -28620669.81041802, -28620667.59018268, -28620665.37597108,\n",
       "       -28620663.16776934, -28620660.96556341, -28620658.76933901,\n",
       "       -28620656.57908171, -28620654.39477686, -28620652.21640966,\n",
       "       -28620650.04396516, -28620647.87742817, -28620645.71678332,\n",
       "       -28620643.56201505, -28620641.41310758, -28620639.27004499,\n",
       "       -28620637.13281116, -28620635.00138982, -28620632.87576459,\n",
       "       -28620630.75591893, -28620628.64183621, -28620626.5334997 ,\n",
       "       -28620624.43089256, -28620622.33399783, -28620620.24279847,\n",
       "       -28620618.15727736, -28620616.07741733, -28620614.00320116,\n",
       "       -28620611.93461158, -28620609.87163128])"
      ]
     },
     "execution_count": 485,
     "metadata": {},
     "output_type": "execute_result"
    }
   ],
   "source": [
    "data = np.arange(50)\n",
    "a = g(data,3)\n",
    "a"
   ]
  },
  {
   "cell_type": "code",
   "execution_count": 486,
   "metadata": {},
   "outputs": [],
   "source": [
    "import matplotlib.pyplot as plt"
   ]
  },
  {
   "cell_type": "code",
   "execution_count": 489,
   "metadata": {},
   "outputs": [
    {
     "data": {
      "image/png": "[encoded data removed]",
      "text/plain": [
       "<Figure size 432x288 with 1 Axes>"
      ]
     },
     "metadata": {
      "needs_background": "light"
     },
     "output_type": "display_data"
    }
   ],
   "source": [
    "plt.plot(data)\n",
    "plt.show()"
   ]
  },
  {
   "cell_type": "code",
   "execution_count": 502,
   "metadata": {},
   "outputs": [
    {
     "data": {
      "text/plain": [
       "(3, 6)"
      ]
     },
     "execution_count": 502,
     "metadata": {},
     "output_type": "execute_result"
    }
   ],
   "source": [
    "x1 = np.arange(18).reshape((3, 6))\n",
    "np.shape(x1)"
   ]
  },
  {
   "cell_type": "code",
   "execution_count": 503,
   "metadata": {},
   "outputs": [
    {
     "data": {
      "text/plain": [
       "(3,)"
      ]
     },
     "execution_count": 503,
     "metadata": {},
     "output_type": "execute_result"
    }
   ],
   "source": [
    "x2 = np.arange(3.0)\n",
    "np.shape(x2)"
   ]
  },
  {
   "cell_type": "code",
   "execution_count": 504,
   "metadata": {},
   "outputs": [
    {
     "ename": "ValueError",
     "evalue": "operands could not be broadcast together with shapes (3,6) (3,) ",
     "output_type": "error",
     "traceback": [
      "\u001b[1;31m---------------------------------------------------------------------------\u001b[0m",
      "\u001b[1;31mValueError\u001b[0m                                Traceback (most recent call last)",
      "\u001b[1;32m<ipython-input-504-af26ab2240ca>\u001b[0m in \u001b[0;36m<module>\u001b[1;34m\u001b[0m\n\u001b[1;32m----> 1\u001b[1;33m \u001b[0mres\u001b[0m \u001b[1;33m=\u001b[0m \u001b[0mnp\u001b[0m\u001b[1;33m.\u001b[0m\u001b[0mmultiply\u001b[0m\u001b[1;33m(\u001b[0m\u001b[0mx1\u001b[0m\u001b[1;33m,\u001b[0m \u001b[0mx2\u001b[0m\u001b[1;33m)\u001b[0m\u001b[1;33m\u001b[0m\u001b[1;33m\u001b[0m\u001b[0m\n\u001b[0m\u001b[0;32m      2\u001b[0m \u001b[0mnp\u001b[0m\u001b[1;33m.\u001b[0m\u001b[0mshape\u001b[0m\u001b[1;33m(\u001b[0m\u001b[0mres\u001b[0m\u001b[1;33m)\u001b[0m\u001b[1;33m\u001b[0m\u001b[1;33m\u001b[0m\u001b[0m\n",
      "\u001b[1;31mValueError\u001b[0m: operands could not be broadcast together with shapes (3,6) (3,) "
     ]
    }
   ],
   "source": [
    "res = np.multiply(x1, x2)\n",
    "np.shape(res)"
   ]
  },
  {
   "cell_type": "code",
   "execution_count": null,
   "metadata": {},
   "outputs": [],
   "source": []
  }
 ],
 "metadata": {
  "kernelspec": {
   "display_name": "Python 3",
   "language": "python",
   "name": "python3"
  },
  "language_info": {
   "codemirror_mode": {
    "name": "ipython",
    "version": 3
   },
   "file_extension": ".py",
   "mimetype": "text/x-python",
   "name": "python",
   "nbconvert_exporter": "python",
   "pygments_lexer": "ipython3",
   "version": "3.8.2"
  }
 },
 "nbformat": 4,
 "nbformat_minor": 4
}
