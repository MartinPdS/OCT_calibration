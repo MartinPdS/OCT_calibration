{
 "cells": [
  {
   "cell_type": "code",
   "execution_count": 3,
   "metadata": {},
   "outputs": [
    {
     "name": "stdout",
     "output_type": "stream",
     "text": [
      "C:\\Users\\Feano\\Desktop\\git_repo\\OCT_calibration\\src\\processing\n"
     ]
    }
   ],
   "source": [
    "'''_____Standard imports_____'''\n",
    "import numpy as np\n",
    "import matplotlib.pyplot as plt\n",
    "from functools import partial\n",
    "import napari\n",
    "from mpl_toolkits.mplot3d import Axes3D\n",
    "import os, sys, tables\n",
    "from matplotlib.ticker import LinearLocator\n",
    "napari.gui_qt()\n",
    "\n",
    "'''_____Add package_____'''\n",
    "p = os.path.abspath('.')\n",
    "if p not in sys.path:\n",
    "    sys.path.append(p)\n",
    "\n",
    "\n",
    "'''_____Project imports_____'''\n",
    "from src.toolbox.parsing import Post_processing_parse_arguments"
   ]
  },
  {
   "cell_type": "code",
   "execution_count": 4,
   "metadata": {},
   "outputs": [],
   "source": [
    "class Segment(object):\n",
    "    def __init__(self, dim=1024):\n",
    "        self.dim = dim\n",
    "\n",
    "    def load_data(self, dir):\n",
    "        f = tables.open_file(dir)\n",
    "        data = f.root.data\n",
    "        data = np.array(data) - np.min(data) + 1\n",
    "        print(np.max(data), np.min(data))\n",
    "        data = np.log(data)\n",
    "        data = data/np.max(data)*255\n",
    "\n",
    "        self.data = data.astype(np.int)\n",
    "        self.dim = np.shape(self.data)[0]\n",
    "        self.update_slices()\n",
    "\n",
    "    def update_slices(self):\n",
    "        self.slice_XZ = self.data[0,:,:].T\n",
    "        self.slice_YZ = self.data[:,0,:].T\n",
    "\n",
    "\n",
    "    def YZ_onclick(self, event):\n",
    "\n",
    "\n",
    "        self.YZ_coordinates.append((event.xdata, event.ydata))\n",
    "        print( event.xdata, event.ydata )\n",
    "\n",
    "        if len(self.YZ_coordinates) == 4:\n",
    "            self.fig.canvas.mpl_disconnect(self.cid)\n",
    "            plt.close()\n",
    "        return\n",
    "\n",
    "\n",
    "    def XZ_onclick(self, event):\n",
    "\n",
    "        self.XZ_coordinates.append((event.xdata, event.ydata))\n",
    "        print( event.xdata, event.ydata )\n",
    "\n",
    "        if len(self.XZ_coordinates) == 4:\n",
    "            self.fig.canvas.mpl_disconnect(self.cid)\n",
    "            plt.close()\n",
    "        return\n",
    "\n",
    "\n",
    "\n",
    "    def plot_Bscan(self):\n",
    "        fig = plt.figure()\n",
    "        ax = fig.add_subplot(111)\n",
    "        ax.imshow(self.data[0,:,:], cmap='gray')\n",
    "        plt.show()\n",
    "\n",
    "\n",
    "    def get_XZ_points(self, num=4):\n",
    "        self.num = num\n",
    "        self.XZ_coordinates = []\n",
    "\n",
    "        self.fig = plt.figure()\n",
    "        ax = self.fig.add_subplot(111)\n",
    "        ax.imshow(self.slice_XZ, cmap='gray')\n",
    "        ax.set_title('Click on 4 point for bottom segmentation in Y-Z plane')\n",
    "        self.cid = self.fig.canvas.mpl_connect('button_press_event', self.XZ_onclick)\n",
    "        plt.show()\n",
    "\n",
    "    def get_YZ_points(self, num=4):\n",
    "        self.num = num\n",
    "        self.YZ_coordinates = []\n",
    "        self.YZ_coordinates.append( (0, self.XZ_coordinates[0]) )\n",
    "\n",
    "        self.fig = plt.figure()\n",
    "        ax = self.fig.add_subplot(111)\n",
    "        ax.imshow(self.slice_YZ, cmap='gray')\n",
    "        ax.scatter([0], self.XZ_coordinates[0])\n",
    "        ax.set_title('Click on 4 point for bottom segmentation in Y-Z plane')\n",
    "        self.cid = self.fig.canvas.mpl_connect('button_press_event', self.YZ_onclick)\n",
    "        plt.show()\n",
    "\n",
    "\n",
    "    def make_XZ_fit(self):\n",
    "        self.XZ_coordinates = np.array(self.XZ_coordinates)\n",
    "        coef = np.polyfit(self.XZ_coordinates[:,0],\n",
    "                          self.XZ_coordinates[:,1],\n",
    "                          deg=self.num-1)\n",
    "        fit = np.poly1d(coef)\n",
    "        x = np.arange(self.dim)\n",
    "        self.XZ_coordinates = fit(x)\n",
    "        self.XZ_coordinates = np.clip(self.XZ_coordinates, a_max=511, a_min=1)\n",
    "        fig = plt.figure()\n",
    "        ax = fig.add_subplot(111)\n",
    "        ax.imshow(self.slice_XZ, cmap='gray')\n",
    "        ax.plot(x, self.XZ_coordinates)\n",
    "        plt.show()\n",
    "\n",
    "\n",
    "    def make_YZ_fit(self):\n",
    "        self.YZ_coordinates = np.array(self.YZ_coordinates)\n",
    "        coef = np.polyfit(self.YZ_coordinates[:,0],\n",
    "                          self.YZ_coordinates[:,1],\n",
    "                          deg=self.num-1)\n",
    "        fit = np.poly1d(coef)\n",
    "        x = np.arange(self.dim)\n",
    "        self.YZ_coordinates = fit(x)\n",
    "        self.YZ_coordinates = np.clip(self.YZ_coordinates, a_max=511, a_min=1)\n",
    "        fig = plt.figure()\n",
    "        ax = fig.add_subplot(111)\n",
    "        ax.imshow(self.slice_YZ, cmap='gray')\n",
    "        ax.plot(x, self.YZ_coordinates)\n",
    "        plt.show()\n",
    "\n",
    "\n",
    "    def def_lim_mesh(self):\n",
    "\n",
    "        XX = np.array([self.XZ_coordinates]*self.dim)\n",
    "        YY = np.array([self.YZ_coordinates]*self.dim) - self.YZ_coordinates[0]\n",
    "        t = np.linspace(0, self.dim, self.dim)\n",
    "        T, _ = np.meshgrid(t,t)\n",
    "        self.mesh = XX + YY.transpose()\n",
    "\n",
    "\n",
    "    def apply_limit(self, lim='bottom'):\n",
    "        print(np.shape(self.mesh))\n",
    "\n",
    "        if lim == 'bottom':\n",
    "            max = int( np.max(self.mesh) )\n",
    "            print(max)\n",
    "            for i in range(self.dim):\n",
    "                for j in range(self.dim):\n",
    "                    self.data[j,i,int(self.mesh[j,i]):] = 0\n",
    "            self.data = self.data[:,:,0:max]\n",
    "\n",
    "        if lim == 'top':\n",
    "            min = int( np.min(self.mesh) )\n",
    "            for i in range(self.dim):\n",
    "                for j in range(self.dim):\n",
    "                    self.data[j,i,:int(self.mesh[j,i])] = 0\n",
    "\n",
    "            self.data = self.data[:,:,min:]\n",
    "\n",
    "        with napari.gui_qt():\n",
    "            viewer = napari.view_image(self.data)\n",
    "\n",
    "\n",
    "    def bound_bottom(self):\n",
    "        self.get_XZ_points()\n",
    "        self.make_XZ_fit()\n",
    "        self.get_YZ_points()\n",
    "        self.make_YZ_fit()\n",
    "        self.def_lim_mesh()\n",
    "        self.apply_limit('bottom')\n",
    "        self.update_slices()\n",
    "\n",
    "    def bound_top(self):\n",
    "        self.get_XZ_points()\n",
    "        self.make_XZ_fit()\n",
    "        self.get_YZ_points()\n",
    "        self.make_YZ_fit()\n",
    "        self.def_lim_mesh()\n",
    "        self.apply_limit('top')\n",
    "        self.update_slices()"
   ]
  },
  {
   "cell_type": "code",
   "execution_count": 8,
   "metadata": {},
   "outputs": [],
   "source": [
    "dir = \"../../data/Cscan/example.h5\""
   ]
  },
  {
   "cell_type": "code",
   "execution_count": 9,
   "metadata": {},
   "outputs": [
    {
     "name": "stdout",
     "output_type": "stream",
     "text": [
      "7220.275582302526 1.0\n"
     ]
    }
   ],
   "source": [
    "obj = Segment()\n",
    "obj.load_data(dir)"
   ]
  },
  {
   "cell_type": "code",
   "execution_count": 10,
   "metadata": {},
   "outputs": [
    {
     "data": {
      "image/png": "[encoded data removed]",
      "text/plain": [
       "<Figure size 432x288 with 1 Axes>"
      ]
     },
     "metadata": {
      "needs_background": "light"
     },
     "output_type": "display_data"
    },
    {
     "ename": "IndexError",
     "evalue": "too many indices for array",
     "output_type": "error",
     "traceback": [
      "\u001b[1;31m---------------------------------------------------------------------------\u001b[0m",
      "\u001b[1;31mIndexError\u001b[0m                                Traceback (most recent call last)",
      "\u001b[1;32m<ipython-input-10-2114f9aa47ed>\u001b[0m in \u001b[0;36m<module>\u001b[1;34m\u001b[0m\n\u001b[1;32m----> 1\u001b[1;33m \u001b[0mobj\u001b[0m\u001b[1;33m.\u001b[0m\u001b[0mbound_bottom\u001b[0m\u001b[1;33m(\u001b[0m\u001b[1;33m)\u001b[0m\u001b[1;33m\u001b[0m\u001b[1;33m\u001b[0m\u001b[0m\n\u001b[0m",
      "\u001b[1;32m<ipython-input-4-211756e3cf2c>\u001b[0m in \u001b[0;36mbound_bottom\u001b[1;34m(self)\u001b[0m\n\u001b[0;32m    142\u001b[0m     \u001b[1;32mdef\u001b[0m \u001b[0mbound_bottom\u001b[0m\u001b[1;33m(\u001b[0m\u001b[0mself\u001b[0m\u001b[1;33m)\u001b[0m\u001b[1;33m:\u001b[0m\u001b[1;33m\u001b[0m\u001b[1;33m\u001b[0m\u001b[0m\n\u001b[0;32m    143\u001b[0m         \u001b[0mself\u001b[0m\u001b[1;33m.\u001b[0m\u001b[0mget_XZ_points\u001b[0m\u001b[1;33m(\u001b[0m\u001b[1;33m)\u001b[0m\u001b[1;33m\u001b[0m\u001b[1;33m\u001b[0m\u001b[0m\n\u001b[1;32m--> 144\u001b[1;33m         \u001b[0mself\u001b[0m\u001b[1;33m.\u001b[0m\u001b[0mmake_XZ_fit\u001b[0m\u001b[1;33m(\u001b[0m\u001b[1;33m)\u001b[0m\u001b[1;33m\u001b[0m\u001b[1;33m\u001b[0m\u001b[0m\n\u001b[0m\u001b[0;32m    145\u001b[0m         \u001b[0mself\u001b[0m\u001b[1;33m.\u001b[0m\u001b[0mget_YZ_points\u001b[0m\u001b[1;33m(\u001b[0m\u001b[1;33m)\u001b[0m\u001b[1;33m\u001b[0m\u001b[1;33m\u001b[0m\u001b[0m\n\u001b[0;32m    146\u001b[0m         \u001b[0mself\u001b[0m\u001b[1;33m.\u001b[0m\u001b[0mmake_YZ_fit\u001b[0m\u001b[1;33m(\u001b[0m\u001b[1;33m)\u001b[0m\u001b[1;33m\u001b[0m\u001b[1;33m\u001b[0m\u001b[0m\n",
      "\u001b[1;32m<ipython-input-4-211756e3cf2c>\u001b[0m in \u001b[0;36mmake_XZ_fit\u001b[1;34m(self)\u001b[0m\n\u001b[0;32m     78\u001b[0m     \u001b[1;32mdef\u001b[0m \u001b[0mmake_XZ_fit\u001b[0m\u001b[1;33m(\u001b[0m\u001b[0mself\u001b[0m\u001b[1;33m)\u001b[0m\u001b[1;33m:\u001b[0m\u001b[1;33m\u001b[0m\u001b[1;33m\u001b[0m\u001b[0m\n\u001b[0;32m     79\u001b[0m         \u001b[0mself\u001b[0m\u001b[1;33m.\u001b[0m\u001b[0mXZ_coordinates\u001b[0m \u001b[1;33m=\u001b[0m \u001b[0mnp\u001b[0m\u001b[1;33m.\u001b[0m\u001b[0marray\u001b[0m\u001b[1;33m(\u001b[0m\u001b[0mself\u001b[0m\u001b[1;33m.\u001b[0m\u001b[0mXZ_coordinates\u001b[0m\u001b[1;33m)\u001b[0m\u001b[1;33m\u001b[0m\u001b[1;33m\u001b[0m\u001b[0m\n\u001b[1;32m---> 80\u001b[1;33m         coef = np.polyfit(self.XZ_coordinates[:,0],\n\u001b[0m\u001b[0;32m     81\u001b[0m                           \u001b[0mself\u001b[0m\u001b[1;33m.\u001b[0m\u001b[0mXZ_coordinates\u001b[0m\u001b[1;33m[\u001b[0m\u001b[1;33m:\u001b[0m\u001b[1;33m,\u001b[0m\u001b[1;36m1\u001b[0m\u001b[1;33m]\u001b[0m\u001b[1;33m,\u001b[0m\u001b[1;33m\u001b[0m\u001b[1;33m\u001b[0m\u001b[0m\n\u001b[0;32m     82\u001b[0m                           deg=self.num-1)\n",
      "\u001b[1;31mIndexError\u001b[0m: too many indices for array"
     ]
    }
   ],
   "source": [
    "obj.bound_bottom()"
   ]
  },
  {
   "cell_type": "code",
   "execution_count": null,
   "metadata": {},
   "outputs": [],
   "source": []
  }
 ],
 "metadata": {
  "kernelspec": {
   "display_name": "Python 3",
   "language": "python",
   "name": "python3"
  },
  "language_info": {
   "codemirror_mode": {
    "name": "ipython",
    "version": 3
   },
   "file_extension": ".py",
   "mimetype": "text/x-python",
   "name": "python",
   "nbconvert_exporter": "python",
   "pygments_lexer": "ipython3",
   "version": "3.8.2"
  }
 },
 "nbformat": 4,
 "nbformat_minor": 4
}
